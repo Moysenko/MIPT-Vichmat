{
 "cells": [
  {
   "cell_type": "code",
   "execution_count": 20,
   "id": "af2f7edc",
   "metadata": {},
   "outputs": [
    {
     "name": "stdout",
     "output_type": "stream",
     "text": [
      "diff: 2.5383204856042465e-08\n"
     ]
    },
    {
     "data": {
      "image/png": "[encoded data removed]",
      "text/plain": [
       "<Figure size 432x288 with 1 Axes>"
      ]
     },
     "metadata": {
      "needs_background": "light"
     },
     "output_type": "display_data"
    }
   ],
   "source": [
    "import numpy as np\n",
    "import matplotlib.pyplot as plt\n",
    "\n",
    "def solve(A, b, max_iterations_count, tol, use_grad):\n",
    "    x = np.zeros_like(b)\n",
    "    r = A @ x - b\n",
    "    R = np.linalg.norm(r)\n",
    "    residuals = [R,]\n",
    "    iterations = 0\n",
    "    while iterations < max_iterations_count and R > tol:\n",
    "        if use_grad:\n",
    "            t = R**2 / np.dot(A @ r, r)\n",
    "        else:\n",
    "            t = np.dot(r, A @ r) / np.linalg.norm(A @ r) ** 2\n",
    "        x -= t * r\n",
    "        r = A @ x - b\n",
    "        R = np.linalg.norm(r)\n",
    "        residuals.append(R)\n",
    "        iterations += 1\n",
    "    return x, residuals\n",
    "    \n",
    "N = 10\n",
    "A = np.random.rand(N)\n",
    "A = 0.5 * (A + A.T) + np.eye(N) * N\n",
    "b = np.random.rand(N)\n",
    "\n",
    "my_solution, residuals = solve(A, b, 100, 10**(-6), False)\n",
    "np_solution = np.linalg.solve(A, b)\n",
    "diff = np.linalg.norm(my_solution - np_solution)\n",
    "\n",
    "print(f'diff: {diff}')\n",
    "\n",
    "residuals = np.array(residuals)\n",
    "plt.semilogy(residuals)\n",
    "plt.grid(True)\n"
   ]
  }
 ],
 "metadata": {
  "kernelspec": {
   "display_name": "Python 3 (ipykernel)",
   "language": "python",
   "name": "python3"
  },
  "language_info": {
   "codemirror_mode": {
    "name": "ipython",
    "version": 3
   },
   "file_extension": ".py",
   "mimetype": "text/x-python",
   "name": "python",
   "nbconvert_exporter": "python",
   "pygments_lexer": "ipython3",
   "version": "3.7.9"
  }
 },
 "nbformat": 4,
 "nbformat_minor": 5
}
